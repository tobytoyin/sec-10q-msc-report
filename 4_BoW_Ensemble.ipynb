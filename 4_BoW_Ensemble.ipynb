{
  "nbformat": 4,
  "nbformat_minor": 0,
  "metadata": {
    "colab": {
      "name": "BoW Ensemble",
      "provenance": [],
      "collapsed_sections": [],
      "mount_file_id": "16ZuWFy7sofPrsbyXTpTBJKq0RmTgEyzv",
      "authorship_tag": "ABX9TyPRrQgJ72R3Vs3CNHllB1jZ",
      "include_colab_link": true
    },
    "kernelspec": {
      "display_name": "Python 3",
      "name": "python3"
    },
    "language_info": {
      "name": "python"
    }
  },
  "cells": [
    {
      "cell_type": "markdown",
      "metadata": {
        "id": "view-in-github",
        "colab_type": "text"
      },
      "source": [
        "<a href=\"https://colab.research.google.com/github/tobytoyin/sec-10q-msc-report/blob/main/4_BoW_Ensemble.ipynb\" target=\"_parent\"><img src=\"https://colab.research.google.com/assets/colab-badge.svg\" alt=\"Open In Colab\"/></a>"
      ]
    },
    {
      "cell_type": "code",
      "metadata": {
        "id": "7jxJOBxORFoy"
      },
      "source": [
        "# !pip install dask distributed\n",
        "# !pip install dask[complete] distributed --upgrade\n",
        "# !pip install dask-ml\n",
        "\n",
        "# setup dirs \n",
        "train_dir = '/content/drive/MyDrive/Aston/Term 3/ML-training'\n",
        "which_base = 'base_sel'\n",
        "dir_json = 'dir_map.json'\n",
        "model_json = 'model_paths.json'\n",
        "model_dir = 'featureSelection'"
      ],
      "execution_count": null,
      "outputs": []
    },
    {
      "cell_type": "code",
      "metadata": {
        "id": "xBkEb1A8RI7B"
      },
      "source": [
        "from dask.diagnostics import ProgressBar\n",
        "\n",
        "## Helper Functions \n",
        "def train_test_split_year(dataframe, year_col, year_for_test):\n",
        "  test_subset = dataframe[year_col].dt.year.isin(year_for_test)\n",
        "  train_set = dataframe.loc[~test_subset].copy()\n",
        "  test_set = dataframe.loc[test_subset].copy()\n",
        "\n",
        "  return train_set, test_set\n",
        "\n",
        "def exponential(base, start_exp, end_exp, step=1) -> list:\n",
        "  return [base**i for i in np.arange(start_exp, end_exp, step=step, dtype=float)]\n",
        "\n",
        "def direction(y, return_value=0.01):\n",
        "  if y > return_value:\n",
        "    return 1\n",
        "\n",
        "  if y < -return_value:\n",
        "    return 2\n",
        "\n",
        "  return 0\n",
        "\n",
        "def save_model(model, name, features, cat=None, num=None, best_cv=None, pred=None, dir=model_dir):\n",
        "  with open(f'{train_dir}/{model_json}', 'r') as f:\n",
        "    modelpaths = json.load(f)\n",
        "\n",
        "  assert 'baseline' in modelpaths.keys()\n",
        "\n",
        "  save_path = f'{train_dir}/models/{dir}/{name}.pkl'\n",
        "  joblib.dump(model, save_path)\n",
        "\n",
        "  modelpaths[name] = {\n",
        "      'path': save_path, \n",
        "      'features': features, \n",
        "      'cat': cat, \n",
        "      'num': num, \n",
        "      'best_cv': best_cv, \n",
        "      'pred': list(pred), \n",
        "  }\n",
        "\n",
        "  with open(f'{train_dir}/{model_json}', 'w') as f:\n",
        "    json.dump(modelpaths, f)\n",
        "\n",
        "def train_wrapper(estimator, param, trainX, trainy, cat_columns, num_columns, \n",
        "                  scoring='neg_mean_squared_error'):\n",
        "  features = ColumnTransformer([\n",
        "    ('onehot', OneHotEncoder(handle_unknown='ignore'), cat_columns),  \n",
        "    ('scaler', MinMaxScaler(), num_columns)\n",
        "  ], remainder='passthrough')\n",
        "\n",
        "  model = Pipeline([\n",
        "    ('features', features), \n",
        "    ('model', estimator)\n",
        "  ])\n",
        "\n",
        "  # Setup grid cv\n",
        "  # grid_model = GridSearchCV(\n",
        "  #     estimator=model,\n",
        "  #     param_grid=param,\n",
        "  #     scoring=scoring, \n",
        "  #     return_train_score=True,\n",
        "  #     cv=5,\n",
        "  #     n_jobs=-1,\n",
        "  #     # verbose=1,\n",
        "  # )\n",
        "  with ProgressBar():\n",
        "    model.fit(trainX, trainy)\n",
        "  # print(\"[BEST] : \", grid_model.best_score_)\n",
        "\n",
        "  return model\n",
        "\n",
        "def retrieve_best_test_scores(grid):\n",
        "  \"\"\"Retreive the cv test scores given a model idx\"\"\"\n",
        "  try: \n",
        "    # get best score \n",
        "    best_model_id = grid.cv_results_['rank_test_score'][0] - 1\n",
        "    scores = []\n",
        "    \n",
        "    for i in range(0, 5):\n",
        "      scores.append(grid.cv_results_[f'split{i}_test_score'][best_model_id])\n",
        "    return scores\n",
        "  \n",
        "  except: \n",
        "    return reg.final_estimator_.best_score_\n",
        "  \n",
        "def check_with_valid(grid, X, y):\n",
        "  # baseline mse\n",
        "  try: \n",
        "    model = grid.best_estimator_\n",
        "\n",
        "  except AttributeError:\n",
        "    model = grid\n",
        "\n",
        "  print(\"\\n===== Training Result =====\")\n",
        "  print(\"SMA60 MSE  : \", mean_squared_error(y, X['sma60']))\n",
        "  print(\"MODEL MSE  : \", mean_squared_error(y, model.predict(X)))\n",
        "\n",
        "\n",
        "  # # # baseline direction\n",
        "  rate = 0.01\n",
        "  pred_baseline_y_dir = list(map(lambda x: direction(x, rate), X['sma60']))\n",
        "\n",
        "  pred_y_dir = list(map(lambda x: direction(x, rate), model.predict(X)))\n",
        "  true_y_dir = list(map(lambda x: direction(x, rate), y))\n",
        "\n",
        "  print(f\"SMA60 Direction ({rate})  : \", f1_score(true_y_dir, pred_baseline_y_dir, average='macro'))\n",
        "  print(f\"MODEL Direction ({rate}) : \", f1_score(true_y_dir, pred_y_dir, average='macro'))\n",
        "  print('\\n')\n",
        "\n",
        "  # params_score = pd.DataFrame(grid.cv_results_).filter(regex='param_model|mean_test_score')\n",
        "  # display(params_score.sort_values(by='mean_test_score', ascending=False))\n",
        "\n",
        "def plot_learning_curve(model, trainX, trainy, scoring='neg_mean_squared_error'):\n",
        "  size, train_score, val_score = learning_curve(model, \n",
        "                                                trainX, trainy,\n",
        "                                                # train_sizes=np.linspace(0.1, 1.0, 10),\n",
        "                                                scoring=scoring)\n",
        "\n",
        "  sns.lineplot(x=size, y=-train_score.mean(1), label='train')\n",
        "  g = sns.lineplot(x=size, y=-val_score.mean(1), label='cv')\n",
        "  ylabels = scoring.replace('_', ' ').replace('neg', '')\n",
        "  g.set(ylabel=ylabels, xlabel='training size')\n",
        "  plt.show()"
      ],
      "execution_count": null,
      "outputs": []
    },
    {
      "cell_type": "code",
      "metadata": {
        "colab": {
          "base_uri": "https://localhost:8080/"
        },
        "id": "yWOHCzyWRKfZ",
        "outputId": "727be701-f470-4457-91f9-29649ea30812"
      },
      "source": [
        "%cd '/content/drive/MyDrive/Aston/Term 3/ML-training'\n",
        "\n",
        "import sklearn\n",
        "import seaborn as sns\n",
        "import pandas as pd \n",
        "import numpy as np\n",
        "import matplotlib.pyplot as plt\n",
        "import json \n",
        "import joblib\n",
        "import random\n",
        "\n",
        "from dask_ml.model_selection import GridSearchCV\n",
        "from math import ceil\n",
        "from sklearn.dummy import DummyRegressor\n",
        "from scipy.stats.mstats import winsorize\n",
        "from sklearn.svm import SVR\n",
        "# from sklearn.model_selection import GridSearchCV, learning_curve\n",
        "from sklearn.model_selection import learning_curve\n",
        "from sklearn.preprocessing import OneHotEncoder, MinMaxScaler, StandardScaler, FunctionTransformer\n",
        "from sklearn.pipeline import Pipeline\n",
        "from sklearn.compose import ColumnTransformer\n",
        "from sklearn.decomposition import PCA\n",
        "from sklearn.linear_model import Lasso\n",
        "from sklearn.cluster import KMeans\n",
        "from sklearn.ensemble import GradientBoostingRegressor, RandomForestRegressor\n",
        "from sklearn.metrics import mean_squared_error, f1_score, accuracy_score\n",
        "from IPython.display import display\n",
        "from sklearn.ensemble import StackingRegressor\n",
        "\n",
        "SEED = 13579\n",
        "random.seed(SEED)\n",
        "\n",
        "\n",
        "\n",
        "\n",
        "with open(f'{train_dir}/{dir_json}', 'r') as f:\n",
        "  datapaths = json.load(f)\n",
        "\n",
        "with open(f'{train_dir}/{model_json}', 'r') as f:\n",
        "  modelpaths = json.load(f)\n",
        "\n",
        "assert sklearn.__version__ == '0.24.2', \"wrong version\""
      ],
      "execution_count": null,
      "outputs": [
        {
          "output_type": "stream",
          "text": [
            "/content/drive/MyDrive/Aston/Term 3/ML-training\n"
          ],
          "name": "stdout"
        }
      ]
    },
    {
      "cell_type": "markdown",
      "metadata": {
        "id": "RpZG5h5JROQi"
      },
      "source": [
        "# Create Datasets"
      ]
    },
    {
      "cell_type": "code",
      "metadata": {
        "colab": {
          "base_uri": "https://localhost:8080/"
        },
        "id": "tm9qPW-LRMQS",
        "outputId": "5e0a2175-5f3e-42b6-844a-27e0007bb8d4"
      },
      "source": [
        "train_set = pd.read_csv(datapaths[which_base]['train'], index_col=0)\n",
        "test_set = pd.read_csv(datapaths[which_base]['test'], index_col=0)\n",
        "\n",
        "cat_columns = datapaths[which_base]['cat_columns']\n",
        "fin_columns = datapaths[which_base]['fin_columns']\n",
        "all_columns = datapaths[which_base]['all_columns']\n",
        "\n",
        "len(all_columns)"
      ],
      "execution_count": null,
      "outputs": [
        {
          "output_type": "execute_result",
          "data": {
            "text/plain": [
              "60"
            ]
          },
          "metadata": {
            "tags": []
          },
          "execution_count": 4
        }
      ]
    },
    {
      "cell_type": "code",
      "metadata": {
        "id": "t_KG4FKARPyW"
      },
      "source": [
        "def feature_merge(feature_keys):\n",
        "  \"\"\"Merge datapaths features by key with the global data set\n",
        "  \"\"\"\n",
        "  global train_set \n",
        "  global test_set \n",
        "\n",
        "  data = {\n",
        "      'train': None, \n",
        "      'test': None, \n",
        "      'features': {}\n",
        "  }\n",
        "\n",
        "  # create copy \n",
        "  train_copy = train_set.copy()\n",
        "  test_copy = test_set.copy()\n",
        "  all_feature_names = set()\n",
        "\n",
        "  # get features\n",
        "  features_names = []\n",
        "  for key in feature_keys:\n",
        "    features_names += datapaths[key]['feature_names']\n",
        "    train_features_df = pd.read_csv(datapaths[key]['train'], index_col=0)\n",
        "    test_features_df = pd.read_csv(datapaths[key]['test'], index_col=0)\n",
        "    \n",
        "    assert len(train_set) == len(train_features_df), \"Number of Train Examples are different\"\n",
        "    assert len(test_set) == len(test_features_df), \"Number of Test Examples are different\"\n",
        "\n",
        "    train_copy = train_copy.merge(train_features_df, left_index=True, right_index=True)\n",
        "    test_copy = test_copy.merge(test_features_df, left_index=True, right_index=True)\n",
        "\n",
        "  data['train'] = train_copy\n",
        "  data['test'] = test_copy\n",
        "  data['features'] = features_names\n",
        "\n",
        "\n",
        "  # for set_name, set_ in zip(['train', 'test'], sets_):\n",
        "  #   merge_df = set_.copy()\n",
        "  #   # merge with each feature keys \n",
        "  #   for key in feature_keys:\n",
        "  #     features_df = pd.read_csv(datapaths[key][set_name], index_col=0)\n",
        "    \n",
        "  #     # merge \n",
        "  #     assert len(set_) == len(features_df), \"Number of Examples are different\"\n",
        "  #     merge_df = merge_df.merge(features_df, left_index=True, right_index=True)\n",
        "  #     all_feature_names.update(datapaths[key]['feature_names'])\n",
        "\n",
        "  #   # add into dictionary after merging all features  \n",
        "  #   data[set_name] = merge_df\n",
        "    \n",
        "\n",
        "    # add feature names to dictionary\n",
        "  # data['features'] = list(all_feature_names)\n",
        "\n",
        "  return data\n",
        "\n",
        "def train_helper(variant, model, params, save_name):\n",
        "  # get variant and datasets \n",
        "  variant_features = datasets[variant]['features']\n",
        "  full_features = all_columns + variant_features\n",
        "\n",
        "  trainX = datasets[variant]['train'][full_features]\n",
        "  trainy = datasets[variant]['train']['y_return30_nom']\n",
        "  testX = datasets[variant]['test'][full_features]\n",
        "\n",
        "  print(\"Traning Shape:\", trainX.shape)\n",
        "\n",
        "  # train model\n",
        "  grid_result = train_wrapper(model, params, trainX, trainy, \n",
        "                              cat_columns=cat_columns, num_columns=fin_columns)\n",
        "  \n",
        "  # predict \n",
        "  try:  \n",
        "    pred = grid_result.best_estimator_.predict(testX)\n",
        "  except: \n",
        "    pred = grid_result.final_estimator_.predict(textX)\n",
        "\n",
        "  # save model \n",
        "  best_scores = retrieve_best_test_scores(grid_result)\n",
        "  save_model(grid_result, save_name, full_features, cat=cat_columns, num=fin_columns, best_cv=best_scores,\n",
        "             pred=pred)\n",
        "  # plot_learning_curve(grid_result.best_estimator_, trainX, trainy)\n",
        "  check_with_valid(grid_result, trainX, trainy)"
      ],
      "execution_count": null,
      "outputs": []
    },
    {
      "cell_type": "code",
      "metadata": {
        "id": "t02j1tuGRWm-"
      },
      "source": [
        "# display(list(datapaths.keys()))\n",
        "lingustics_features = {\n",
        "    'sentiment_percent': ['sentiment_percent_lg'], \n",
        "    'unigram_lsa100': ['unigram_lsa100_lg'],\n",
        "    'unigram_lsa200': ['unigram_lsa200_lg'], \n",
        "    'unigram_lsa100_sent': ['unigram_lsa100_lg', 'sentiment_percent_lg'], \n",
        "    'unigram_lsa200_sent': ['unigram_lsa200_lg', 'sentiment_percent_lg'], \n",
        "    'bigram_lsa100': ['bigram_lsa100_lg'], \n",
        "    'bigram_lsa200': ['bigram_lsa200_lg'], \n",
        "    'bigram_lsa100_sent': ['bigram_lsa100_lg', 'sentiment_percent_lg'], \n",
        "    'bigram_lsa200_sent': ['bigram_lsa200_lg', 'sentiment_percent_lg'], \n",
        "    'unigram_selectedLDA30': ['unigram_selectedLda30_lg'], \n",
        "    'unigram_selectedLDA30_sent': ['unigram_selectedLda30_lg', 'sentiment_percent_lg'], \n",
        "    'bigram_selectedLda30': ['bigram_selectedLda30_lg'], \n",
        "    'bigram_selectedLDA30_sent': ['bigram_selectedLda30_lg', 'sentiment_percent_lg'], \n",
        "    'np_lsa200': ['np_lsa200_lg'], \n",
        "    'np_lsa200_sent': ['np_lsa200_lg', 'sentiment_percent_lg'], \n",
        "}\n",
        "kind = 'featureSelected'\n",
        "\n",
        "\n",
        "# create different datasets \n",
        "datasets = {}\n",
        "\n",
        "for key, item in lingustics_features.items():\n",
        "  ## data dataframe to collections \n",
        "  datasets[key] = feature_merge(item)"
      ],
      "execution_count": null,
      "outputs": []
    },
    {
      "cell_type": "code",
      "metadata": {
        "id": "gFTP36CB392Z"
      },
      "source": [
        "from sklearn.pipeline import make_pipeline\n",
        "\n",
        "# select data features \n",
        "def pick_columns(X, features):\n",
        "  return X[features]\n",
        "\n",
        "features_getter = FunctionTransformer(lambda x: pick_columns(x, all_columns + datasets['bigram_lsa100']['features']))\n",
        "pipeline = make_pipeline(features_getter)\n"
      ],
      "execution_count": null,
      "outputs": []
    },
    {
      "cell_type": "markdown",
      "metadata": {
        "id": "KIY09kpARZI_"
      },
      "source": [
        "# Load the Best Models for each features types"
      ]
    },
    {
      "cell_type": "code",
      "metadata": {
        "id": "8Hqvs8_FRYFT"
      },
      "source": [
        "def get_model(name):\n",
        "  return joblib.load(f'{train_dir}/models/{model_dir}/{name}.pkl')\n",
        "\n",
        "def get_params(param):\n",
        "  new_param = {}\n",
        "  for k, v in param.items():\n",
        "    new_param[k.replace('model__',  '')] = v\n",
        "  return new_param\n",
        "\n",
        "def build_ensemble_models(variant, models=['svr', 'rf']):\n",
        "  estimators = []\n",
        "  for model in models:\n",
        "    pkl_model = get_model(f'{variant}_{kind}_{model}')\n",
        "    best_param = get_params(pkl_model.best_params_)\n",
        "    best_model = pkl_model.best_estimator_['model'].set_params(**best_param)\n",
        "\n",
        "    estimators.append((model, best_model))\n",
        "\n",
        "  return estimators"
      ],
      "execution_count": null,
      "outputs": []
    },
    {
      "cell_type": "code",
      "metadata": {
        "id": "vNKwE0EBPI54"
      },
      "source": [
        "# find the best cv models \n",
        "mean_cvs = []\n",
        "for variant in lingustics_features.keys():\n",
        "  local_max = 10000\n",
        "  local_max_ss = None\n",
        "  \n",
        "  for model in ['_featureSelected_svr', '_featureSelected_rf', '_featureSelected_gb']:\n",
        "    mean_cv = -np.mean(modelpaths[f'{variant}{model}']['best_cv'])\n",
        "    if mean_cv < local_max:\n",
        "      local_max = mean_cv \n",
        "      local_max_ss = (f'{variant}', f'{variant}{model}', mean_cv)\n",
        "\n",
        "  mean_cvs.append(local_max_ss)"
      ],
      "execution_count": null,
      "outputs": []
    },
    {
      "cell_type": "code",
      "metadata": {
        "colab": {
          "base_uri": "https://localhost:8080/"
        },
        "id": "sLj-ouCuQLe2",
        "outputId": "2efe9098-ca86-4f5f-a89c-2efe091905cf"
      },
      "source": [
        "top_3_models = sorted(mean_cvs, key=lambda x: x[2])[0:3]\n",
        "top_3_models"
      ],
      "execution_count": null,
      "outputs": [
        {
          "output_type": "execute_result",
          "data": {
            "text/plain": [
              "[('unigram_selectedLDA30_sent',\n",
              "  'unigram_selectedLDA30_sent_featureSelected_rf',\n",
              "  0.013691809846414138),\n",
              " ('unigram_selectedLDA30',\n",
              "  'unigram_selectedLDA30_featureSelected_rf',\n",
              "  0.013691992823818383),\n",
              " ('bigram_selectedLDA30_sent',\n",
              "  'bigram_selectedLDA30_sent_featureSelected_rf',\n",
              "  0.013706195990455135)]"
            ]
          },
          "metadata": {
            "tags": []
          },
          "execution_count": 61
        }
      ]
    },
    {
      "cell_type": "code",
      "metadata": {
        "id": "n2mQaICqQqiA"
      },
      "source": [
        "def build_ensemble_models(models, prefix):\n",
        "  estimators = []\n",
        "  for (feature_name, model_name, _), prefix_ in zip(models, prefix):\n",
        "    pkl_model = get_model(model_name)\n",
        "    best_param = get_params(pkl_model.best_params_)\n",
        "    best_model = pkl_model.best_estimator_['model'].set_params(**best_param)\n",
        "    \n",
        "    # append feature pipeline \n",
        "    features = [f'{prefix_}_{x}' for x in datasets[feature_name]['features'] if 'topic' in x]\n",
        "    features_getter = FunctionTransformer(lambda x: pick_columns(x, all_columns + features))\n",
        "    features_scaler = ColumnTransformer([\n",
        "      ('onehot', OneHotEncoder(handle_unknown='ignore'), cat_columns),  \n",
        "      ('scaler', MinMaxScaler(), fin_columns)\n",
        "    ], remainder='passthrough')\n",
        "    pipeline = make_pipeline(features_getter, features_scaler, best_model)\n",
        "\n",
        "    estimators.append((model_name, pipeline))\n",
        "\n",
        "  return estimators\n",
        "\n",
        "ensemble_models = build_ensemble_models(top_3_models, ['unigram', 'unigram', 'bigram'])"
      ],
      "execution_count": null,
      "outputs": []
    },
    {
      "cell_type": "code",
      "metadata": {
        "id": "Cr7Dh4MrUZDL"
      },
      "source": [
        "# create dataset \n",
        "# display(list(datapaths.keys()))\n",
        "unigram_lda_train = pd.read_csv(datapaths['unigram_selectedLda30_lg']['train'], index_col=0)\n",
        "unigram_lda_test = pd.read_csv(datapaths['unigram_selectedLda30_lg']['test'], index_col=0)\n",
        "unigram_lda_train.columns = 'unigram_' + unigram_lda_train.columns \n",
        "unigram_lda_test.columns = 'unigram_' + unigram_lda_test.columns \n",
        "\n",
        "bigram_lda_train = pd.read_csv(datapaths['bigram_selectedLda30_lg']['train'], index_col=0)\n",
        "bigram_lda_test = pd.read_csv(datapaths['bigram_selectedLda30_lg']['test'], index_col=0)\n",
        "bigram_lda_train.columns = 'bigram_' + bigram_lda_train.columns \n",
        "bigram_lda_test.columns = 'bigram_' + bigram_lda_test.columns \n",
        "\n",
        "sentiment_train = pd.read_csv(datapaths['sentiment_percent_lg']['train'], index_col=0)\n",
        "sentiment_test = pd.read_csv(datapaths['sentiment_percent_lg']['test'], index_col=0)\n",
        "\n",
        "new_train = train_set.merge(unigram_lda_train, left_index=True, right_index=True)\n",
        "new_train = new_train.merge(bigram_lda_train, left_index=True, right_index=True)\n",
        "new_train = new_train.merge(sentiment_train, left_index=True, right_index=True)\n",
        "\n",
        "new_test = test_set.merge(unigram_lda_test, left_index=True, right_index=True)\n",
        "new_test = new_test.merge(bigram_lda_test, left_index=True, right_index=True)\n",
        "new_test = new_test.merge(sentiment_test, left_index=True, right_index=True)\n",
        "\n",
        "datasets['ensemble'] = {}\n",
        "datasets['ensemble']['train'] = new_train\n",
        "datasets['ensemble']['test'] = new_test\n",
        "datasets['ensemble']['features'] = list(unigram_lda_train.columns) + list(bigram_lda_train.columns) + list(sentiment_train.columns)"
      ],
      "execution_count": null,
      "outputs": []
    },
    {
      "cell_type": "code",
      "metadata": {
        "colab": {
          "base_uri": "https://localhost:8080/"
        },
        "id": "4ncsmMZPb1KM",
        "outputId": "d0d845a4-75f5-4173-ddf9-29608f740020"
      },
      "source": [
        "# train model \n",
        "variant = 'ensemble'\n",
        "estimators = build_ensemble_models(top_3_models, ['unigram', 'unigram', 'bigram'])\n",
        "reg = StackingRegressor(estimators=estimators, n_jobs=-1, cv=5, verbose=1)\n",
        "reg.fit(new_train, new_train['y_return30_nom'])"
      ],
      "execution_count": null,
      "outputs": [
        {
          "output_type": "stream",
          "text": [
            "/usr/local/lib/python3.7/dist-packages/joblib/externals/loky/process_executor.py:691: UserWarning: A worker stopped while some jobs were given to the executor. This can be caused by a too short worker timeout or by a memory leak.\n",
            "  \"timeout or by a memory leak.\", UserWarning\n"
          ],
          "name": "stderr"
        },
        {
          "output_type": "execute_result",
          "data": {
            "text/plain": [
              "StackingRegressor(cv=5,\n",
              "                  estimators=[('unigram_selectedLDA30_sent_featureSelected_rf',\n",
              "                               Pipeline(steps=[('functiontransformer',\n",
              "                                                FunctionTransformer(func=<function build_ensemble_models.<locals>.<lambda> at 0x7feab641c830>)),\n",
              "                                               ('columntransformer',\n",
              "                                                ColumnTransformer(remainder='passthrough',\n",
              "                                                                  transformers=[('onehot',\n",
              "                                                                                 OneHotEncoder(handle_unknown='ignore'),\n",
              "                                                                                 ['period...\n",
              "                                                                                  'BP_pct1',\n",
              "                                                                                  'DP_pct1',\n",
              "                                                                                  'currentRatio_pct1',\n",
              "                                                                                  'SP_pct1',\n",
              "                                                                                  'CFP_pct1',\n",
              "                                                                                  'ROE_pct1',\n",
              "                                                                                  'ROA_pct1',\n",
              "                                                                                  'roic_pct1',\n",
              "                                                                                  'peRatio_pct1',\n",
              "                                                                                  'pbRatio_pct1',\n",
              "                                                                                  'eps_pct1',\n",
              "                                                                                  'EquityRatio_pct1',\n",
              "                                                                                  'assetsTurnover_pct1',\n",
              "                                                                                  'marketCap_pct1', ...])])),\n",
              "                                               ('randomforestregressor',\n",
              "                                                RandomForestRegressor(min_samples_leaf=10,\n",
              "                                                                      min_samples_split=27,\n",
              "                                                                      n_estimators=500,\n",
              "                                                                      random_state=13579))]))],\n",
              "                  n_jobs=-1, verbose=1)"
            ]
          },
          "metadata": {
            "tags": []
          },
          "execution_count": 100
        }
      ]
    },
    {
      "cell_type": "code",
      "metadata": {
        "id": "tEQJY77WtOYh"
      },
      "source": [
        "# make prediction\n",
        "pred = reg.predict(new_test)"
      ],
      "execution_count": null,
      "outputs": []
    },
    {
      "cell_type": "code",
      "metadata": {
        "id": "v9dftM9EsXNU"
      },
      "source": [
        "modelpaths['ensemble_featureSelected_stacks'] = {}\n",
        "modelpaths['ensemble_featureSelected_stacks']['path'] = None\n",
        "modelpaths['ensemble_featureSelected_stacks']['features'] = datasets['ensemble']['features']\n",
        "modelpaths['ensemble_featureSelected_stacks']['best_cv'] = reg.final_estimator_.best_score_\n",
        "modelpaths['ensemble_featureSelected_stacks']['pred'] = list(pred)"
      ],
      "execution_count": null,
      "outputs": []
    },
    {
      "cell_type": "code",
      "metadata": {
        "id": "nShK4ijIbLos"
      },
      "source": [
        "with open(f'{train_dir}/{model_json}', 'w') as f:\n",
        "  json.dump(modelpaths, f)"
      ],
      "execution_count": null,
      "outputs": []
    },
    {
      "cell_type": "code",
      "metadata": {
        "colab": {
          "background_save": true
        },
        "id": "QyZ89Jocb0_E"
      },
      "source": [
        "variant = 'unigram_lsa200'\n",
        "estimators = build_ensemble_models(variant)\n",
        "reg = StackingRegressor(estimators=estimators, n_jobs=-1, cv=5, verbose=1)\n",
        "train_helper(variant, reg, {}, f'{variant}_{kind}_stack')"
      ],
      "execution_count": null,
      "outputs": []
    },
    {
      "cell_type": "code",
      "metadata": {
        "colab": {
          "background_save": true
        },
        "id": "RwYuGvPFc5Vz"
      },
      "source": [
        "variant = 'unigram_lsa200_sent'\n",
        "estimators = build_ensemble_models(variant)\n",
        "reg = StackingRegressor(estimators=estimators, n_jobs=-1, cv=5, verbose=1)\n",
        "train_helper(variant, reg, {}, f'{variant}_{kind}_stack')"
      ],
      "execution_count": null,
      "outputs": []
    },
    {
      "cell_type": "code",
      "metadata": {
        "id": "Z_hqOl5cc8Cx"
      },
      "source": [
        "variant = 'unigram_lsa300'\n",
        "estimators = build_ensemble_models(variant)\n",
        "reg = StackingRegressor(estimators=estimators, n_jobs=-1, cv=5, verbose=1)\n",
        "train_helper(variant, reg, {}, f'{variant}_{kind}_stack')"
      ],
      "execution_count": null,
      "outputs": []
    },
    {
      "cell_type": "code",
      "metadata": {
        "id": "V0GB5RBIc894"
      },
      "source": [
        "variant = 'unigram_lsa300_sent'\n",
        "estimators = build_ensemble_models(variant)\n",
        "reg = StackingRegressor(estimators=estimators, n_jobs=-1, cv=5, verbose=1)\n",
        "train_helper(variant, reg, {}, f'{variant}_{kind}_stack')"
      ],
      "execution_count": null,
      "outputs": []
    },
    {
      "cell_type": "code",
      "metadata": {
        "colab": {
          "background_save": true
        },
        "id": "OAlzcnC0GPsu",
        "outputId": "f18438dc-e9e9-4f85-c215-b468d8f19926"
      },
      "source": [
        "variant = 'bigram_lsa100_sent'\n",
        "estimators = build_ensemble_models(variant)\n",
        "reg = StackingRegressor(estimators=estimators, n_jobs=-1, cv=5, verbose=1)\n",
        "train_helper(variant, reg, {}, f'{variant}_{kind}_stack')"
      ],
      "execution_count": null,
      "outputs": [
        {
          "output_type": "stream",
          "text": [
            "Traning Shape: (8744, 167)\n",
            "\n",
            "===== Training Result =====\n",
            "SMA60 MSE  :  0.014276989108699727\n",
            "MODEL MSE  :  0.009544841522554828\n",
            "SMA60 Direction (0.01)  :  0.05459854966213367\n",
            "MODEL Direction (0.01) :  0.518288544636545\n",
            "\n",
            "\n"
          ],
          "name": "stdout"
        }
      ]
    },
    {
      "cell_type": "code",
      "metadata": {
        "colab": {
          "base_uri": "https://localhost:8080/"
        },
        "id": "9T74b1hDGR-S",
        "outputId": "e537b912-52a6-4a76-fd44-c268c0ba6ba9"
      },
      "source": [
        "variant = 'bigram_lsa200_sent'\n",
        "estimators = build_ensemble_models(variant)\n",
        "reg = StackingRegressor(estimators=estimators, n_jobs=-1, cv=5, verbose=1)\n",
        "train_helper(variant, reg, {}, f'{variant}_{kind}_stack')"
      ],
      "execution_count": null,
      "outputs": [
        {
          "output_type": "stream",
          "text": [
            "Traning Shape: (8744, 267)\n",
            "\n",
            "===== Training Result =====\n",
            "SMA60 MSE  :  0.014276989108699727\n",
            "MODEL MSE  :  0.009852790637244322\n",
            "SMA60 Direction (0.01)  :  0.05459854966213367\n",
            "MODEL Direction (0.01) :  0.4870407288801339\n",
            "\n",
            "\n"
          ],
          "name": "stdout"
        }
      ]
    },
    {
      "cell_type": "code",
      "metadata": {
        "colab": {
          "background_save": true,
          "base_uri": "https://localhost:8080/"
        },
        "id": "E-mrNKLFXNt-",
        "outputId": "b72c4948-dd16-442d-e6ea-fcbd8a8ea8c7"
      },
      "source": [
        "variant = 'bigram_selectedLda30'\n",
        "estimators = build_ensemble_models(variant)\n",
        "reg = StackingRegressor(estimators=estimators, n_jobs=-1, cv=5, verbose=1)\n",
        "train_helper(variant, reg, {}, f'{variant}_{kind}_stack')"
      ],
      "execution_count": null,
      "outputs": [
        {
          "output_type": "stream",
          "text": [
            "Traning Shape: (8744, 74)\n",
            "\n",
            "===== Training Result =====\n",
            "SMA60 MSE  :  0.014276989108699727\n",
            "MODEL MSE  :  0.008617451952346651\n",
            "SMA60 Direction (0.01)  :  0.05459854966213367\n",
            "MODEL Direction (0.01) :  0.5904980976644075\n",
            "\n",
            "\n"
          ],
          "name": "stdout"
        }
      ]
    },
    {
      "cell_type": "code",
      "metadata": {
        "colab": {
          "background_save": true
        },
        "id": "n6FjiJerXPZz",
        "outputId": "b6c34162-4527-47d4-ed7a-e81c783b4b42"
      },
      "source": [
        "variant = 'bigram_selectedLDA30_sent'\n",
        "estimators = build_ensemble_models(variant)\n",
        "reg = StackingRegressor(estimators=estimators, n_jobs=-1, cv=5, verbose=1)\n",
        "train_helper(variant, reg, {}, f'{variant}_{kind}_stack')"
      ],
      "execution_count": null,
      "outputs": [
        {
          "output_type": "stream",
          "text": [
            "Traning Shape: (8744, 81)\n",
            "\n",
            "===== Training Result =====\n",
            "SMA60 MSE  :  0.014276989108699727\n",
            "MODEL MSE  :  0.008364976862067634\n",
            "SMA60 Direction (0.01)  :  0.05459854966213367\n",
            "MODEL Direction (0.01) :  0.5803738581437614\n",
            "\n",
            "\n"
          ],
          "name": "stdout"
        }
      ]
    },
    {
      "cell_type": "code",
      "metadata": {
        "colab": {
          "background_save": true,
          "base_uri": "https://localhost:8080/"
        },
        "id": "jwMdxaMgYLcq",
        "outputId": "0a481115-ee49-422e-b8e5-f9347d89d86b"
      },
      "source": [
        "from time import sleep\n",
        "\n",
        "okay = False\n",
        "while not okay:\n",
        "  try: \n",
        "    variant = 'np_lsa200'\n",
        "    estimators = build_ensemble_models(variant)\n",
        "    okay = True\n",
        "\n",
        "  except FileNotFoundError:\n",
        "    sleep(60*60)  \n",
        "  \n",
        "reg = StackingRegressor(estimators=estimators, n_jobs=-1, cv=5, verbose=1)\n",
        "train_helper(variant, reg, {}, f'{variant}_{kind}_stack')"
      ],
      "execution_count": null,
      "outputs": [
        {
          "output_type": "stream",
          "text": [
            "Traning Shape: (8744, 260)\n",
            "\n",
            "===== Training Result =====\n",
            "SMA60 MSE  :  0.014276989108699727\n",
            "MODEL MSE  :  0.010245755533315594\n",
            "SMA60 Direction (0.01)  :  0.05459854966213367\n",
            "MODEL Direction (0.01) :  0.48618920779444225\n",
            "\n",
            "\n"
          ],
          "name": "stdout"
        }
      ]
    },
    {
      "cell_type": "code",
      "metadata": {
        "colab": {
          "background_save": true
        },
        "id": "Ka9tCanmMTHp",
        "outputId": "3f035c66-b603-4869-a8fc-ebc9b63adfae"
      },
      "source": [
        "variant = 'np_lsa200_sent'\n",
        "estimators = build_ensemble_models(variant)\n",
        "reg = StackingRegressor(estimators=estimators, n_jobs=-1, cv=5, verbose=1)\n",
        "train_helper(variant, reg, {}, f'{variant}_{kind}_stack')"
      ],
      "execution_count": null,
      "outputs": [
        {
          "output_type": "stream",
          "text": [
            "Traning Shape: (8744, 267)\n",
            "\n",
            "===== Training Result =====\n",
            "SMA60 MSE  :  0.014276989108699727\n",
            "MODEL MSE  :  0.01002745547290499\n",
            "SMA60 Direction (0.01)  :  0.05459854966213367\n",
            "MODEL Direction (0.01) :  0.483855622238426\n",
            "\n",
            "\n"
          ],
          "name": "stdout"
        }
      ]
    },
    {
      "cell_type": "code",
      "metadata": {
        "id": "hkCbwBFRp9Z4"
      },
      "source": [
        ""
      ],
      "execution_count": null,
      "outputs": []
    },
    {
      "cell_type": "markdown",
      "metadata": {
        "id": "YPwNz3LtqLvz"
      },
      "source": [
        "# Non Ensemble Training"
      ]
    },
    {
      "cell_type": "code",
      "metadata": {
        "id": "BHgCCrW9p9qV"
      },
      "source": [
        "from dask.diagnostics import ProgressBar\n",
        "\n",
        "## Helper Functions \n",
        "def train_test_split_year(dataframe, year_col, year_for_test):\n",
        "  test_subset = dataframe[year_col].dt.year.isin(year_for_test)\n",
        "  train_set = dataframe.loc[~test_subset].copy()\n",
        "  test_set = dataframe.loc[test_subset].copy()\n",
        "\n",
        "  return train_set, test_set\n",
        "\n",
        "def exponential(base, start_exp, end_exp, step=1) -> list:\n",
        "  return [base**i for i in np.arange(start_exp, end_exp, step=step, dtype=float)]\n",
        "\n",
        "def direction(y, return_value=0.01):\n",
        "  if y > return_value:\n",
        "    return 1\n",
        "\n",
        "  if y < -return_value:\n",
        "    return 2\n",
        "\n",
        "  return 0\n",
        "\n",
        "def save_model(model, name, features, cat=None, num=None, best_cv=None, dir='featureSelection'):\n",
        "  with open(f'{train_dir}/{model_json}', 'r') as f:\n",
        "    modelpaths = json.load(f)\n",
        "\n",
        "  assert 'baseline' in modelpaths.keys()\n",
        "\n",
        "  save_path = f'{train_dir}/models/{dir}/{name}.pkl'\n",
        "  joblib.dump(model, save_path)\n",
        "\n",
        "  modelpaths[name] = {\n",
        "      'path': save_path, \n",
        "      'features': features, \n",
        "      'cat': cat, \n",
        "      'num': num, \n",
        "      'best_cv': best_cv, \n",
        "  }\n",
        "\n",
        "  with open(f'{train_dir}/{model_json}', 'w') as f:\n",
        "    json.dump(modelpaths, f)\n",
        "\n",
        "def train_wrapper(estimator, param, trainX, trainy, cat_columns, num_columns, \n",
        "                  scoring='neg_mean_squared_error'):\n",
        "  features = ColumnTransformer([\n",
        "    ('onehot', OneHotEncoder(handle_unknown='ignore'), cat_columns),  \n",
        "    ('scaler', MinMaxScaler(), num_columns)\n",
        "  ], remainder='passthrough')\n",
        "\n",
        "  model = Pipeline([\n",
        "    ('features', features), \n",
        "    ('model', estimator)\n",
        "  ])\n",
        "\n",
        "  # Setup grid cv\n",
        "  grid_model = GridSearchCV(\n",
        "      estimator=model,\n",
        "      param_grid=param,\n",
        "      scoring=scoring, \n",
        "      return_train_score=True,\n",
        "      cv=5,\n",
        "      n_jobs=-1,\n",
        "      # verbose=1,\n",
        "  )\n",
        "  with ProgressBar():\n",
        "    grid_model.fit(trainX, trainy)\n",
        "  print(\"[BEST] : \", grid_model.best_score_)\n",
        "\n",
        "  return grid_model\n",
        "\n",
        "def retrieve_best_test_scores(grid):\n",
        "  \"\"\"Retreive the cv test scores given a model idx\"\"\"\n",
        "  # get best score \n",
        "  best_model_id = grid.cv_results_['rank_test_score'][0] - 1\n",
        "  scores = []\n",
        "  \n",
        "  for i in range(0, 5):\n",
        "    scores.append(grid.cv_results_[f'split{i}_test_score'][best_model_id])\n",
        "  return scores\n",
        "  \n",
        "def check_with_valid(grid, X, y):\n",
        "  # baseline mse\n",
        "  print(\"\\n===== Training Result =====\")\n",
        "  print(\"SMA60 MSE  : \", mean_squared_error(y, X['sma60']))\n",
        "  print(\"MODEL MSE  : \", mean_squared_error(y, grid.best_estimator_.predict(X)))\n",
        "\n",
        "\n",
        "  # # # baseline direction\n",
        "  rate = 0.01\n",
        "  pred_baseline_y_dir = list(map(lambda x: direction(x, rate), X['sma60']))\n",
        "\n",
        "  pred_y_dir = list(map(lambda x: direction(x, rate), grid.best_estimator_.predict(X)))\n",
        "  true_y_dir = list(map(lambda x: direction(x, rate), y))\n",
        "\n",
        "  print(f\"SMA60 Direction ({rate})  : \", f1_score(true_y_dir, pred_baseline_y_dir, average='macro'))\n",
        "  print(f\"MODEL Direction ({rate}) : \", f1_score(true_y_dir, pred_y_dir, average='macro'))\n",
        "  print('\\n')\n",
        "\n",
        "  # params_score = pd.DataFrame(grid.cv_results_).filter(regex='param_model|mean_test_score')\n",
        "  # display(params_score.sort_values(by='mean_test_score', ascending=False))\n",
        "\n",
        "def plot_learning_curve(model, trainX, trainy, scoring='neg_mean_squared_error'):\n",
        "  size, train_score, val_score = learning_curve(model, \n",
        "                                                trainX, trainy,\n",
        "                                                # train_sizes=np.linspace(0.1, 1.0, 10),\n",
        "                                                scoring=scoring)\n",
        "\n",
        "  sns.lineplot(x=size, y=-train_score.mean(1), label='train')\n",
        "  g = sns.lineplot(x=size, y=-val_score.mean(1), label='cv')\n",
        "  ylabels = scoring.replace('_', ' ').replace('neg', '')\n",
        "  g.set(ylabel=ylabels, xlabel='training size')\n",
        "  plt.show()\n",
        "\n",
        "def train_helper(variant, model, params, save_name):\n",
        "  # get variant and datasets \n",
        "  variant_features = datasets[variant]['features']\n",
        "  full_features = all_columns + variant_features\n",
        "\n",
        "  trainX = datasets[variant]['train'][full_features]\n",
        "  trainy = datasets[variant]['train']['y_return30_nom']\n",
        "\n",
        "  print(\"Traning Shape:\", trainX.shape)\n",
        "\n",
        "  # train model\n",
        "  grid_result = train_wrapper(model, params, trainX, trainy, \n",
        "                              cat_columns=cat_columns, num_columns=fin_columns)\n",
        "\n",
        "  # save model \n",
        "  best_scores = retrieve_best_test_scores(grid_result)\n",
        "  save_model(grid_result, save_name, full_features, cat=cat_columns, num=fin_columns, best_cv=best_scores)\n",
        "  # plot_learning_curve(grid_result.best_estimator_, trainX, trainy)\n",
        "  check_with_valid(grid_result, trainX, trainy)"
      ],
      "execution_count": null,
      "outputs": []
    },
    {
      "cell_type": "code",
      "metadata": {
        "colab": {
          "base_uri": "https://localhost:8080/"
        },
        "id": "165fN9SYp-YY",
        "outputId": "7f0e08a5-b784-4beb-97a0-30c1efb4c01f"
      },
      "source": [
        "variant = 'np_lsa200'\n",
        "variant_features = datasets[variant]['features']\n",
        "full_features = all_columns + variant_features\n",
        "n = len(full_features)\n",
        "params = {\n",
        "    'model__n_estimators': [500, 1000], \n",
        "    'model__min_samples_leaf': [5, 10],\n",
        "    'model__min_samples_split': [int(n / 3)],\n",
        "    'model__random_state': [SEED]\n",
        "}\n",
        "\n",
        "train_helper(variant, RandomForestRegressor(), params, f'{variant}_{kind}_rf')"
      ],
      "execution_count": null,
      "outputs": [
        {
          "output_type": "stream",
          "text": [
            "Traning Shape: (8744, 260)\n",
            "[########################################] | 100% Completed |  5hr 55min 47.0s\n",
            "[                                        ] | 0% Completed | 38min 17.6s"
          ],
          "name": "stdout"
        }
      ]
    },
    {
      "cell_type": "code",
      "metadata": {
        "colab": {
          "base_uri": "https://localhost:8080/"
        },
        "id": "pp9vsOpEqwHt",
        "outputId": "a2580e4c-f768-4330-9d1f-4f7c81c57810"
      },
      "source": [
        "variant = 'np_lsa200'\n",
        "variant_features = datasets[variant]['features']\n",
        "full_features = all_columns + variant_features\n",
        "n = len(full_features)\n",
        "params = {\n",
        "  'model__subsample': [0.8], \n",
        "  'model__learning_rate': [0.05], \n",
        "  'model__max_depth': [5], \n",
        "  'model__n_estimators': [500, 1000], \n",
        "  'model__min_samples_leaf': [1, 5],\n",
        "  'model__min_samples_split': [2, int(n/3)],\n",
        "  'model__random_state': [SEED]\n",
        "}\n",
        "\n",
        "train_helper(variant, GradientBoostingRegressor(), params, f'{variant}_{kind}_gb')"
      ],
      "execution_count": null,
      "outputs": [
        {
          "output_type": "stream",
          "text": [
            "Traning Shape: (8744, 260)\n",
            "[########################################] | 100% Completed |  5hr 26min 49.5s\n",
            "[########################################] | 100% Completed |  9min 42.8s\n",
            "[BEST] :  -0.014605824689989475\n",
            "\n",
            "===== Training Result =====\n",
            "SMA60 MSE  :  0.014276989108699727\n",
            "MODEL MSE  :  0.004048681497023178\n",
            "SMA60 Direction (0.01)  :  0.05459854966213367\n",
            "MODEL Direction (0.01) :  0.6106172762533602\n",
            "\n",
            "\n"
          ],
          "name": "stdout"
        }
      ]
    },
    {
      "cell_type": "code",
      "metadata": {
        "id": "LrzPQX2YrAG8"
      },
      "source": [
        "variant = 'np_lsa200_sent'\n",
        "variant_features = datasets[variant]['features']\n",
        "full_features = all_columns + variant_features\n",
        "n = len(full_features)\n",
        "params = {\n",
        "  'model__subsample': [0.8], \n",
        "  'model__learning_rate': [0.05], \n",
        "  'model__max_depth': [5], \n",
        "  'model__n_estimators': [500, 1000], \n",
        "  'model__min_samples_leaf': [1, 5],\n",
        "  'model__min_samples_split': [2, int(n/3)],\n",
        "  'model__random_state': [SEED]\n",
        "}\n",
        "\n",
        "train_helper(variant, GradientBoostingRegressor(), params, f'{variant}_{kind}_gb')"
      ],
      "execution_count": null,
      "outputs": []
    },
    {
      "cell_type": "code",
      "metadata": {
        "colab": {
          "base_uri": "https://localhost:8080/",
          "height": 375
        },
        "id": "gvHexsbOltN6",
        "outputId": "ad6f0ab1-5cf2-494f-e6cf-76572ec726dc"
      },
      "source": [
        "variant = 'np_lsa200_sent'\n",
        "variant_features = datasets[variant]['features']\n",
        "full_features = all_columns + variant_features\n",
        "n = len(full_features)\n",
        "params = {\n",
        "    'model__n_estimators': [500, 1000], \n",
        "    'model__min_samples_leaf': [5, 10],\n",
        "    'model__min_samples_split': [int(n / 3)],\n",
        "    'model__random_state': [SEED]\n",
        "}\n",
        "\n",
        "train_helper(variant, RandomForestRegressor(), params, f'{variant}_{kind}_rf')"
      ],
      "execution_count": null,
      "outputs": [
        {
          "output_type": "stream",
          "text": [
            "Traning Shape: (8744, 267)\n",
            "[                                        ] | 0% Completed |  1hr 35min 52.3s\n"
          ],
          "name": "stdout"
        },
        {
          "output_type": "error",
          "ename": "KeyboardInterrupt",
          "evalue": "ignored",
          "traceback": [
            "\u001b[0;31m---------------------------------------------------------------------------\u001b[0m",
            "\u001b[0;31mKeyboardInterrupt\u001b[0m                         Traceback (most recent call last)",
            "\u001b[0;32m<ipython-input-13-08eefd4f0054>\u001b[0m in \u001b[0;36m<module>\u001b[0;34m()\u001b[0m\n\u001b[1;32m     10\u001b[0m }\n\u001b[1;32m     11\u001b[0m \u001b[0;34m\u001b[0m\u001b[0m\n\u001b[0;32m---> 12\u001b[0;31m \u001b[0mtrain_helper\u001b[0m\u001b[0;34m(\u001b[0m\u001b[0mvariant\u001b[0m\u001b[0;34m,\u001b[0m \u001b[0mRandomForestRegressor\u001b[0m\u001b[0;34m(\u001b[0m\u001b[0;34m)\u001b[0m\u001b[0;34m,\u001b[0m \u001b[0mparams\u001b[0m\u001b[0;34m,\u001b[0m \u001b[0;34mf'{variant}_{kind}_rf'\u001b[0m\u001b[0;34m)\u001b[0m\u001b[0;34m\u001b[0m\u001b[0;34m\u001b[0m\u001b[0m\n\u001b[0m",
            "\u001b[0;32m<ipython-input-9-d8cc1fc0e7c0>\u001b[0m in \u001b[0;36mtrain_helper\u001b[0;34m(variant, model, params, save_name)\u001b[0m\n\u001b[1;32m    124\u001b[0m   \u001b[0;31m# train model\u001b[0m\u001b[0;34m\u001b[0m\u001b[0;34m\u001b[0m\u001b[0;34m\u001b[0m\u001b[0m\n\u001b[1;32m    125\u001b[0m   grid_result = train_wrapper(model, params, trainX, trainy, \n\u001b[0;32m--> 126\u001b[0;31m                               cat_columns=cat_columns, num_columns=fin_columns)\n\u001b[0m\u001b[1;32m    127\u001b[0m \u001b[0;34m\u001b[0m\u001b[0m\n\u001b[1;32m    128\u001b[0m   \u001b[0;31m# save model\u001b[0m\u001b[0;34m\u001b[0m\u001b[0;34m\u001b[0m\u001b[0;34m\u001b[0m\u001b[0m\n",
            "\u001b[0;32m<ipython-input-9-d8cc1fc0e7c0>\u001b[0m in \u001b[0;36mtrain_wrapper\u001b[0;34m(estimator, param, trainX, trainy, cat_columns, num_columns, scoring)\u001b[0m\n\u001b[1;32m     64\u001b[0m   )\n\u001b[1;32m     65\u001b[0m   \u001b[0;32mwith\u001b[0m \u001b[0mProgressBar\u001b[0m\u001b[0;34m(\u001b[0m\u001b[0;34m)\u001b[0m\u001b[0;34m:\u001b[0m\u001b[0;34m\u001b[0m\u001b[0;34m\u001b[0m\u001b[0m\n\u001b[0;32m---> 66\u001b[0;31m     \u001b[0mgrid_model\u001b[0m\u001b[0;34m.\u001b[0m\u001b[0mfit\u001b[0m\u001b[0;34m(\u001b[0m\u001b[0mtrainX\u001b[0m\u001b[0;34m,\u001b[0m \u001b[0mtrainy\u001b[0m\u001b[0;34m)\u001b[0m\u001b[0;34m\u001b[0m\u001b[0;34m\u001b[0m\u001b[0m\n\u001b[0m\u001b[1;32m     67\u001b[0m   \u001b[0mprint\u001b[0m\u001b[0;34m(\u001b[0m\u001b[0;34m\"[BEST] : \"\u001b[0m\u001b[0;34m,\u001b[0m \u001b[0mgrid_model\u001b[0m\u001b[0;34m.\u001b[0m\u001b[0mbest_score_\u001b[0m\u001b[0;34m)\u001b[0m\u001b[0;34m\u001b[0m\u001b[0;34m\u001b[0m\u001b[0m\n\u001b[1;32m     68\u001b[0m \u001b[0;34m\u001b[0m\u001b[0m\n",
            "\u001b[0;32m/usr/local/lib/python3.7/dist-packages/dask_ml/model_selection/_search.py\u001b[0m in \u001b[0;36mfit\u001b[0;34m(self, X, y, groups, **fit_params)\u001b[0m\n\u001b[1;32m   1275\u001b[0m             \u001b[0mout\u001b[0m \u001b[0;34m=\u001b[0m \u001b[0;34m[\u001b[0m\u001b[0mresult_map\u001b[0m\u001b[0;34m[\u001b[0m\u001b[0mk\u001b[0m\u001b[0;34m]\u001b[0m \u001b[0;32mfor\u001b[0m \u001b[0mk\u001b[0m \u001b[0;32min\u001b[0m \u001b[0mkeys\u001b[0m\u001b[0;34m]\u001b[0m\u001b[0;34m\u001b[0m\u001b[0;34m\u001b[0m\u001b[0m\n\u001b[1;32m   1276\u001b[0m         \u001b[0;32melse\u001b[0m\u001b[0;34m:\u001b[0m\u001b[0;34m\u001b[0m\u001b[0;34m\u001b[0m\u001b[0m\n\u001b[0;32m-> 1277\u001b[0;31m             \u001b[0mout\u001b[0m \u001b[0;34m=\u001b[0m \u001b[0mscheduler\u001b[0m\u001b[0;34m(\u001b[0m\u001b[0mdsk\u001b[0m\u001b[0;34m,\u001b[0m \u001b[0mkeys\u001b[0m\u001b[0;34m,\u001b[0m \u001b[0mnum_workers\u001b[0m\u001b[0;34m=\u001b[0m\u001b[0mn_jobs\u001b[0m\u001b[0;34m)\u001b[0m\u001b[0;34m\u001b[0m\u001b[0;34m\u001b[0m\u001b[0m\n\u001b[0m\u001b[1;32m   1278\u001b[0m \u001b[0;34m\u001b[0m\u001b[0m\n\u001b[1;32m   1279\u001b[0m         \u001b[0;32mif\u001b[0m \u001b[0mself\u001b[0m\u001b[0;34m.\u001b[0m\u001b[0miid\u001b[0m\u001b[0;34m:\u001b[0m\u001b[0;34m\u001b[0m\u001b[0;34m\u001b[0m\u001b[0m\n",
            "\u001b[0;32m/usr/local/lib/python3.7/dist-packages/dask/threaded.py\u001b[0m in \u001b[0;36mget\u001b[0;34m(dsk, result, cache, num_workers, pool, **kwargs)\u001b[0m\n\u001b[1;32m     85\u001b[0m         \u001b[0mget_id\u001b[0m\u001b[0;34m=\u001b[0m\u001b[0m_thread_get_id\u001b[0m\u001b[0;34m,\u001b[0m\u001b[0;34m\u001b[0m\u001b[0;34m\u001b[0m\u001b[0m\n\u001b[1;32m     86\u001b[0m         \u001b[0mpack_exception\u001b[0m\u001b[0;34m=\u001b[0m\u001b[0mpack_exception\u001b[0m\u001b[0;34m,\u001b[0m\u001b[0;34m\u001b[0m\u001b[0;34m\u001b[0m\u001b[0m\n\u001b[0;32m---> 87\u001b[0;31m         \u001b[0;34m**\u001b[0m\u001b[0mkwargs\u001b[0m\u001b[0;34m\u001b[0m\u001b[0;34m\u001b[0m\u001b[0m\n\u001b[0m\u001b[1;32m     88\u001b[0m     )\n\u001b[1;32m     89\u001b[0m \u001b[0;34m\u001b[0m\u001b[0m\n",
            "\u001b[0;32m/usr/local/lib/python3.7/dist-packages/dask/local.py\u001b[0m in \u001b[0;36mget_async\u001b[0;34m(submit, num_workers, dsk, result, cache, get_id, rerun_exceptions_locally, pack_exception, raise_exception, callbacks, dumps, loads, chunksize, **kwargs)\u001b[0m\n\u001b[1;32m    501\u001b[0m             \u001b[0;32mwhile\u001b[0m \u001b[0mstate\u001b[0m\u001b[0;34m[\u001b[0m\u001b[0;34m\"waiting\"\u001b[0m\u001b[0;34m]\u001b[0m \u001b[0;32mor\u001b[0m \u001b[0mstate\u001b[0m\u001b[0;34m[\u001b[0m\u001b[0;34m\"ready\"\u001b[0m\u001b[0;34m]\u001b[0m \u001b[0;32mor\u001b[0m \u001b[0mstate\u001b[0m\u001b[0;34m[\u001b[0m\u001b[0;34m\"running\"\u001b[0m\u001b[0;34m]\u001b[0m\u001b[0;34m:\u001b[0m\u001b[0;34m\u001b[0m\u001b[0;34m\u001b[0m\u001b[0m\n\u001b[1;32m    502\u001b[0m                 \u001b[0mfire_tasks\u001b[0m\u001b[0;34m(\u001b[0m\u001b[0mchunksize\u001b[0m\u001b[0;34m)\u001b[0m\u001b[0;34m\u001b[0m\u001b[0;34m\u001b[0m\u001b[0m\n\u001b[0;32m--> 503\u001b[0;31m                 \u001b[0;32mfor\u001b[0m \u001b[0mkey\u001b[0m\u001b[0;34m,\u001b[0m \u001b[0mres_info\u001b[0m\u001b[0;34m,\u001b[0m \u001b[0mfailed\u001b[0m \u001b[0;32min\u001b[0m \u001b[0mqueue_get\u001b[0m\u001b[0;34m(\u001b[0m\u001b[0mqueue\u001b[0m\u001b[0;34m)\u001b[0m\u001b[0;34m.\u001b[0m\u001b[0mresult\u001b[0m\u001b[0;34m(\u001b[0m\u001b[0;34m)\u001b[0m\u001b[0;34m:\u001b[0m\u001b[0;34m\u001b[0m\u001b[0;34m\u001b[0m\u001b[0m\n\u001b[0m\u001b[1;32m    504\u001b[0m                     \u001b[0;32mif\u001b[0m \u001b[0mfailed\u001b[0m\u001b[0;34m:\u001b[0m\u001b[0;34m\u001b[0m\u001b[0;34m\u001b[0m\u001b[0m\n\u001b[1;32m    505\u001b[0m                         \u001b[0mexc\u001b[0m\u001b[0;34m,\u001b[0m \u001b[0mtb\u001b[0m \u001b[0;34m=\u001b[0m \u001b[0mloads\u001b[0m\u001b[0;34m(\u001b[0m\u001b[0mres_info\u001b[0m\u001b[0;34m)\u001b[0m\u001b[0;34m\u001b[0m\u001b[0;34m\u001b[0m\u001b[0m\n",
            "\u001b[0;32m/usr/local/lib/python3.7/dist-packages/dask/local.py\u001b[0m in \u001b[0;36mqueue_get\u001b[0;34m(q)\u001b[0m\n\u001b[1;32m    132\u001b[0m \u001b[0;34m\u001b[0m\u001b[0m\n\u001b[1;32m    133\u001b[0m     \u001b[0;32mdef\u001b[0m \u001b[0mqueue_get\u001b[0m\u001b[0;34m(\u001b[0m\u001b[0mq\u001b[0m\u001b[0;34m)\u001b[0m\u001b[0;34m:\u001b[0m\u001b[0;34m\u001b[0m\u001b[0;34m\u001b[0m\u001b[0m\n\u001b[0;32m--> 134\u001b[0;31m         \u001b[0;32mreturn\u001b[0m \u001b[0mq\u001b[0m\u001b[0;34m.\u001b[0m\u001b[0mget\u001b[0m\u001b[0;34m(\u001b[0m\u001b[0;34m)\u001b[0m\u001b[0;34m\u001b[0m\u001b[0;34m\u001b[0m\u001b[0m\n\u001b[0m\u001b[1;32m    135\u001b[0m \u001b[0;34m\u001b[0m\u001b[0m\n\u001b[1;32m    136\u001b[0m \u001b[0;34m\u001b[0m\u001b[0m\n",
            "\u001b[0;32m/usr/lib/python3.7/queue.py\u001b[0m in \u001b[0;36mget\u001b[0;34m(self, block, timeout)\u001b[0m\n\u001b[1;32m    168\u001b[0m             \u001b[0;32melif\u001b[0m \u001b[0mtimeout\u001b[0m \u001b[0;32mis\u001b[0m \u001b[0;32mNone\u001b[0m\u001b[0;34m:\u001b[0m\u001b[0;34m\u001b[0m\u001b[0;34m\u001b[0m\u001b[0m\n\u001b[1;32m    169\u001b[0m                 \u001b[0;32mwhile\u001b[0m \u001b[0;32mnot\u001b[0m \u001b[0mself\u001b[0m\u001b[0;34m.\u001b[0m\u001b[0m_qsize\u001b[0m\u001b[0;34m(\u001b[0m\u001b[0;34m)\u001b[0m\u001b[0;34m:\u001b[0m\u001b[0;34m\u001b[0m\u001b[0;34m\u001b[0m\u001b[0m\n\u001b[0;32m--> 170\u001b[0;31m                     \u001b[0mself\u001b[0m\u001b[0;34m.\u001b[0m\u001b[0mnot_empty\u001b[0m\u001b[0;34m.\u001b[0m\u001b[0mwait\u001b[0m\u001b[0;34m(\u001b[0m\u001b[0;34m)\u001b[0m\u001b[0;34m\u001b[0m\u001b[0;34m\u001b[0m\u001b[0m\n\u001b[0m\u001b[1;32m    171\u001b[0m             \u001b[0;32melif\u001b[0m \u001b[0mtimeout\u001b[0m \u001b[0;34m<\u001b[0m \u001b[0;36m0\u001b[0m\u001b[0;34m:\u001b[0m\u001b[0;34m\u001b[0m\u001b[0;34m\u001b[0m\u001b[0m\n\u001b[1;32m    172\u001b[0m                 \u001b[0;32mraise\u001b[0m \u001b[0mValueError\u001b[0m\u001b[0;34m(\u001b[0m\u001b[0;34m\"'timeout' must be a non-negative number\"\u001b[0m\u001b[0;34m)\u001b[0m\u001b[0;34m\u001b[0m\u001b[0;34m\u001b[0m\u001b[0m\n",
            "\u001b[0;32m/usr/lib/python3.7/threading.py\u001b[0m in \u001b[0;36mwait\u001b[0;34m(self, timeout)\u001b[0m\n\u001b[1;32m    294\u001b[0m         \u001b[0;32mtry\u001b[0m\u001b[0;34m:\u001b[0m    \u001b[0;31m# restore state no matter what (e.g., KeyboardInterrupt)\u001b[0m\u001b[0;34m\u001b[0m\u001b[0;34m\u001b[0m\u001b[0m\n\u001b[1;32m    295\u001b[0m             \u001b[0;32mif\u001b[0m \u001b[0mtimeout\u001b[0m \u001b[0;32mis\u001b[0m \u001b[0;32mNone\u001b[0m\u001b[0;34m:\u001b[0m\u001b[0;34m\u001b[0m\u001b[0;34m\u001b[0m\u001b[0m\n\u001b[0;32m--> 296\u001b[0;31m                 \u001b[0mwaiter\u001b[0m\u001b[0;34m.\u001b[0m\u001b[0macquire\u001b[0m\u001b[0;34m(\u001b[0m\u001b[0;34m)\u001b[0m\u001b[0;34m\u001b[0m\u001b[0;34m\u001b[0m\u001b[0m\n\u001b[0m\u001b[1;32m    297\u001b[0m                 \u001b[0mgotit\u001b[0m \u001b[0;34m=\u001b[0m \u001b[0;32mTrue\u001b[0m\u001b[0;34m\u001b[0m\u001b[0;34m\u001b[0m\u001b[0m\n\u001b[1;32m    298\u001b[0m             \u001b[0;32melse\u001b[0m\u001b[0;34m:\u001b[0m\u001b[0;34m\u001b[0m\u001b[0;34m\u001b[0m\u001b[0m\n",
            "\u001b[0;31mKeyboardInterrupt\u001b[0m: "
          ]
        }
      ]
    },
    {
      "cell_type": "code",
      "metadata": {
        "id": "tDY4TY2Mlwpw"
      },
      "source": [
        ""
      ],
      "execution_count": null,
      "outputs": []
    }
  ]
}